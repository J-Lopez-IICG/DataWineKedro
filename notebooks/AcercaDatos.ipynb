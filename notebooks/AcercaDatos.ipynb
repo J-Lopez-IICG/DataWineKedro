{
 "cells": [
  {
   "cell_type": "markdown",
   "id": "cbc286a8",
   "metadata": {},
   "source": [
    "# Análisis de Calidad del Vino - Vinho Verde\n",
    "\n",
    "## Acerca del Conjunto de Datos\n",
    "\n",
    "### Contexto\n",
    "Este conjunto de datos se relaciona con las variantes tinta y blanca del vino portugués \"Vinho Verde\". Para más detalles, se puede consultar la referencia [Cortez et al., 2009]. Debido a cuestiones de privacidad y logística, solo se dispone de variables fisicoquímicas (entradas) y sensoriales (salida). No existen datos sobre tipos de uva, marca del vino, precio de venta, etc.\n",
    "\n",
    "Estos datos pueden abordarse como una tarea de **clasificación** o de **regresión**. Las clases de calidad están ordenadas y no están balanceadas (es decir, hay muchos más vinos \"normales\" que excelentes o malos).\n",
    "\n",
    "### Contenido\n",
    "Las variables se dividen en entradas (pruebas fisicoquímicas) y una salida (dato sensorial).\n",
    "\n",
    "#### Variables de Entrada:\n",
    "1.  **Acidez Fija (fixed acidity):** ácidos mayoritarios involucrados en el vino.\n",
    "2.  **Acidez Volátil (volatile acidity):** cantidad de ácido acético en el vino.\n",
    "3.  **Ácido Cítrico (citric acid):** puede añadir frescura y sabor a los vinos.\n",
    "4.  **Azúcar Residual (residual sugar):** cantidad de azúcar restante después de la fermentación.\n",
    "5.  **Cloruros (chlorides):** cantidad de sal en el vino.\n",
    "6.  **Dióxido de Azufre Libre (free sulfur dioxide):** forma libre de SO2.\n",
    "7.  **Dióxido de Azufre Total (total sulfur dioxide):** cantidad de formas libres y ligadas de SO2.\n",
    "8.  **Densidad (density):** densidad del vino.\n",
    "9.  **pH:** describe qué tan ácido o básico es un vino en una escala de 0 a 14.\n",
    "10. **Sulfatos (sulphates):** un aditivo del vino que puede contribuir a los niveles de dióxido de azufre.\n",
    "11. **Alcohol:** el contenido de alcohol del vino.\n",
    "\n",
    "#### Variable de Salida:\n",
    "12. **Calidad (quality):** una puntuación entre 0 y 10 basada en datos sensoriales.\n",
    "\n",
    "---\n",
    "\n",
    "## Estrategias de Modelado y Consejos\n",
    "\n",
    "Una estrategia interesante, además de usar modelos de regresión, es convertir el problema en uno de **clasificación binaria**. Se puede establecer un punto de corte arbitrario para la variable de calidad. Por ejemplo:\n",
    "*   Calidad >= 7 se clasifica como **'bueno' (1)**.\n",
    "*   El resto se clasifica como **'no bueno' (0)**.\n",
    "\n",
    "Este enfoque te permite practicar el ajuste de hiperparámetros en algoritmos como los árboles de decisión, evaluando el rendimiento con la curva ROC y el valor AUC. Sin realizar una ingeniería de características compleja, es posible alcanzar un **AUC de 0.88**.\n",
    "\n",
    "### Inspiración\n",
    "El objetivo final es utilizar el aprendizaje automático para **determinar qué propiedades fisicoquímicas hacen que un vino sea considerado 'bueno'**."
   ]
  }
 ],
 "metadata": {
  "kernelspec": {
   "display_name": "",
   "name": ""
  },
  "language_info": {
   "name": ""
  }
 },
 "nbformat": 4,
 "nbformat_minor": 5
}
